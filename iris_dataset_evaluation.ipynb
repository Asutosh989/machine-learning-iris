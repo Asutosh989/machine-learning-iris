{
 "cells": [
  {
   "cell_type": "code",
   "execution_count": 2,
   "metadata": {
    "collapsed": false
   },
   "outputs": [
    {
     "name": "stdout",
     "output_type": "stream",
     "text": [
      "[1 0 1 2 2 2 2 1 0 1 0 2 0 1 2 2 0 2 0 2 0 2 1 2 1 0 0 0 2 0 2 0 1 2 0 2 2\n",
      " 2 2 1 0 2 1 0 1 1 0 0 0 2 2 1 0 2 0 1 1 1 2 1 1 1 1 1 1 2 2 1 2 1 0 0 1 2\n",
      " 0]\n",
      "0.96\n",
      "[1 0 1 2 2 2 2 1 0 1 0 2 0 1 2 2 0 2 0 2 0 2 1 2 1 0 0 0 2 0 2 0 1 2 0 2 2\n",
      " 2 2 1 0 2 1 0 1 1 0 0 0 1 1 1 0 2 0 1 1 1 2 1 1 1 1 1 1 2 2 1 2 1 0 0 1 2\n",
      " 0]\n",
      "0.96\n"
     ]
    }
   ],
   "source": [
    "from sklearn import datasets\n",
    "iris=datasets.load_iris()\n",
    "\n",
    "x=iris.data\n",
    "y=iris.target\n",
    "\n",
    "from sklearn.cross_validation import train_test_split\n",
    "x_train, x_test, y_train, y_test = train_test_split(x,y,test_size = .5)\n",
    "\n",
    "from sklearn import tree\n",
    "m=tree.DecisionTreeClassifier()\n",
    "m.fit(x_train, y_train)\n",
    "\n",
    "pr=m.predict(x_test)\n",
    "print (pr)\n",
    "\n",
    "from sklearn.metrics import accuracy_score\n",
    "print (accuracy_score(y_test, pr))\n",
    "\n",
    "from sklearn.neighbors import KNeighborsClassifier\n",
    "my=KNeighborsClassifier()\n",
    "my.fit(x_train, y_train)\n",
    "\n",
    "pre=my.predict(x_test)\n",
    "print (pre)\n",
    "\n",
    "from sklearn.metrics import accuracy_score\n",
    "print (accuracy_score(y_test, pre))\n"
   ]
  }
 ],
 "metadata": {
  "anaconda-cloud": {},
  "kernelspec": {
   "display_name": "Python [conda env:cv]",
   "language": "python",
   "name": "conda-env-cv-py"
  },
  "language_info": {
   "codemirror_mode": {
    "name": "ipython",
    "version": 3
   },
   "file_extension": ".py",
   "mimetype": "text/x-python",
   "name": "python",
   "nbconvert_exporter": "python",
   "pygments_lexer": "ipython3",
   "version": "3.5.2"
  }
 },
 "nbformat": 4,
 "nbformat_minor": 1
}
